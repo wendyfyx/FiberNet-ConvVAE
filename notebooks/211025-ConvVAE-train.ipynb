{
 "cells": [
  {
   "cell_type": "markdown",
   "id": "dec80226",
   "metadata": {},
   "source": [
    "# Set up"
   ]
  },
  {
   "cell_type": "code",
   "execution_count": 1,
   "id": "7c493259",
   "metadata": {},
   "outputs": [
    {
     "name": "stdout",
     "output_type": "stream",
     "text": [
      "/Volumes/GoogleDrive/My Drive/USC/Projects/210913-FiberNET/211025-Exp3-ConvVAE/src\n"
     ]
    }
   ],
   "source": [
    "import os\n",
    "import sys\n",
    "\n",
    "module_path = os.path.abspath(os.path.join('../src/'))\n",
    "print(module_path)\n",
    "if module_path not in sys.path:\n",
    "    sys.path.append(module_path)"
   ]
  },
  {
   "cell_type": "code",
   "execution_count": 18,
   "id": "1306d131",
   "metadata": {},
   "outputs": [],
   "source": [
    "import glob\n",
    "import random\n",
    "import pickle\n",
    "import numpy as np\n",
    "import pandas as pd\n",
    "import matplotlib as mpl\n",
    "import matplotlib.pyplot as plt\n",
    "import seaborn as sns\n",
    "import nibabel as nib\n",
    "from tqdm.auto import tqdm\n",
    "from collections import Counter\n",
    "\n",
    "import torch\n",
    "import torch.nn as nn\n",
    "import torch.nn.functional as F\n",
    "from torch.utils.data import DataLoader, TensorDataset\n",
    "from torch.utils.tensorboard import SummaryWriter\n",
    "\n",
    "import dipy\n",
    "from dipy.viz import window, actor\n",
    "\n",
    "from data.SubjData import *\n",
    "from data.data_util import *\n",
    "from utils.general_util import *\n",
    "from model.model import *\n",
    "from model.train_model import train_model\n",
    "from evaluation import *"
   ]
  },
  {
   "cell_type": "code",
   "execution_count": 3,
   "id": "a252dc1d",
   "metadata": {},
   "outputs": [
    {
     "name": "stdout",
     "output_type": "stream",
     "text": [
      "Random seed 2022 has been set.\n",
      "GPU is not enabled in this notebook.\n"
     ]
    }
   ],
   "source": [
    "SEED = 2022\n",
    "set_seed(seed=SEED)\n",
    "DEVICE = set_device()\n",
    "if DEVICE == 'cuda':\n",
    "    print(torch.cuda.device_count(), \n",
    "          torch.cuda.get_device_name(0))"
   ]
  },
  {
   "cell_type": "code",
   "execution_count": 4,
   "id": "812a2c2c",
   "metadata": {},
   "outputs": [],
   "source": [
    "model_folder = \"../results/models/\"\n",
    "plot_folder = \"../results/plots/\"\n",
    "result_data_folder = \"../results/data/\"\n",
    "log_folder = \"../results/logs/\"\n",
    "data_files_folder = \"../data_files/\"\n",
    "\n",
    "# change these if running locally\n",
    "data_folder = \"../../211105-DATA_ADNI3_DWI/\""
   ]
  },
  {
   "cell_type": "markdown",
   "id": "ca98fe66",
   "metadata": {},
   "source": [
    "# Load data"
   ]
  },
  {
   "cell_type": "code",
   "execution_count": 5,
   "id": "1b4f33bb",
   "metadata": {},
   "outputs": [
    {
     "name": "stdout",
     "output_type": "stream",
     "text": [
      "Loaded 007_S_6120_20171117_A3_DWI_S127 with 30 tracts and 51062 lines.\n"
     ]
    }
   ],
   "source": [
    "args = {'n_points' : 256, 'n_lines' : None, 'min_lines' : 2, \n",
    "        'tracts_exclude' : ['CST_L_s', 'CST_R_s'],'preprocess' : '3d', \n",
    "        'rng' : np.random.RandomState(SEED), 'verbose': False, \n",
    "        'data_folder' : data_folder}\n",
    "\n",
    "subj_train = SubjData('007_S_6120_20171117_A3_DWI_S127', **args)"
   ]
  },
  {
   "cell_type": "code",
   "execution_count": 6,
   "id": "78a7b257",
   "metadata": {},
   "outputs": [
    {
     "name": "stdout",
     "output_type": "stream",
     "text": [
      "(51062, 256, 3) (51062,)\n"
     ]
    }
   ],
   "source": [
    "print(subj_train.X.shape, subj_train.y.shape)"
   ]
  },
  {
   "cell_type": "markdown",
   "id": "ec3be13e",
   "metadata": {},
   "source": [
    "# Dataset & Dataloader\n",
    "\n",
    "Preprocess data into torch Dataset and Dataloader"
   ]
  },
  {
   "cell_type": "code",
   "execution_count": 7,
   "id": "3445ede8",
   "metadata": {},
   "outputs": [],
   "source": [
    "'''This is the data for training or is train on'''\n",
    "X = subj_train.X\n",
    "y = subj_train.y"
   ]
  },
  {
   "cell_type": "code",
   "execution_count": 8,
   "id": "3de2583e",
   "metadata": {},
   "outputs": [
    {
     "name": "stdout",
     "output_type": "stream",
     "text": [
      "Split into 40849 train and 10213 test samples\n",
      "torch.Size([40849, 256, 3]) torch.Size([40849])\n",
      "torch.Size([10213, 256, 3]) torch.Size([10213])\n"
     ]
    }
   ],
   "source": [
    "'''Split into train and test 80/20'''\n",
    "train, test = split_data(X, y)\n",
    "X_train = torch.from_numpy(X[train])\n",
    "y_train = torch.from_numpy(y[train])\n",
    "X_test = torch.from_numpy(X[test])\n",
    "y_test = torch.from_numpy(y[test])\n",
    "\n",
    "print(X_train.shape, y_train.shape)\n",
    "print(X_test.shape, y_test.shape)"
   ]
  },
  {
   "cell_type": "code",
   "execution_count": 9,
   "id": "02292e3b",
   "metadata": {
    "scrolled": true
   },
   "outputs": [
    {
     "name": "stdout",
     "output_type": "stream",
     "text": [
      "tensor([  1.1057, -23.8751,  13.3811]) tensor([25.0681, 28.8390, 23.7054])\n"
     ]
    }
   ],
   "source": [
    "'''Get the x,y,z mean and std from training data'''\n",
    "mean, std = X_train.mean([0,1]), X_train.std([0,1])\n",
    "print(mean, std)"
   ]
  },
  {
   "cell_type": "code",
   "execution_count": 10,
   "id": "7a0bcd4f",
   "metadata": {},
   "outputs": [
    {
     "name": "stdout",
     "output_type": "stream",
     "text": [
      "torch.Size([40849, 256, 3]) torch.Size([10213, 256, 3]) torch.Size([51062, 256, 3])\n"
     ]
    },
    {
     "data": {
      "image/png": "[encoded data removed]",
      "text/plain": [
       "<Figure size 432x288 with 1 Axes>"
      ]
     },
     "metadata": {
      "needs_background": "light"
     },
     "output_type": "display_data"
    }
   ],
   "source": [
    "'''Apply standard scaling (zero mean and unit variance) to train and test data'''\n",
    "\n",
    "X_train_norm = X_train.sub(mean).div(std)\n",
    "# histogram to double check scaling is correct\n",
    "_ = plt.hist(np.array(X_train_norm).ravel(), bins=50, density=True)\n",
    "\n",
    "X_test_norm = X_test.sub(mean).div(std)\n",
    "X_norm = torch.tensor(X).sub(mean).div(std)\n",
    "subj_train.X_norm = X_norm # <-- note here we're saving the normalized data\n",
    "\n",
    "print(X_train_norm.shape, X_test_norm.shape, X_norm.shape)"
   ]
  },
  {
   "cell_type": "code",
   "execution_count": 11,
   "id": "de33d673",
   "metadata": {},
   "outputs": [
    {
     "name": "stdout",
     "output_type": "stream",
     "text": [
      "# Batches: train 320, eval 80\n"
     ]
    }
   ],
   "source": [
    "'''Convert data to pytorch dataloader for training'''\n",
    "g_seed = torch.Generator()\n",
    "g_seed.manual_seed(SEED)\n",
    "batch_size = 128\n",
    "\n",
    "train_data = TensorDataset(X_train_norm, y_train)\n",
    "train_loader = DataLoader(train_data, batch_size=batch_size,\n",
    "                         shuffle=True, num_workers=4,\n",
    "                         worker_init_fn=seed_worker,\n",
    "                         generator=g_seed)\n",
    "\n",
    "test_data = TensorDataset(X_test_norm, y_test)\n",
    "test_loader = DataLoader(test_data, batch_size=batch_size,\n",
    "                         shuffle=True, num_workers=4,\n",
    "                         worker_init_fn=seed_worker,\n",
    "                         generator=g_seed)\n",
    "print(f\"# Batches: train {len(train_loader)}, eval {len(test_loader)}\")"
   ]
  },
  {
   "cell_type": "code",
   "execution_count": 12,
   "id": "87882a55",
   "metadata": {},
   "outputs": [
    {
     "name": "stdout",
     "output_type": "stream",
     "text": [
      "Random seed 2022 has been set.\n",
      "# Params:  1641326\n",
      "torch.Size([128, 2]) torch.Size([128, 256, 3]) 1445.5057373046875\n",
      "{'loss_kl': 0.6738020777702332, 'loss_recon': 1444.83203125, 'loss_elbo': 1445.5057373046875}\n"
     ]
    }
   ],
   "source": [
    "'''Used for testing model forward function'''\n",
    "set_seed(SEED)\n",
    "model = convVAE(3, 2, Encoder3L, Decoder3L)\n",
    "model.to(DEVICE)\n",
    "print(\"# Params: \", sum(p.numel() for p in model.parameters()))\n",
    "\n",
    "# model.apply(init_weights)\n",
    "\n",
    "for i, (x,_) in enumerate(test_loader):\n",
    "    x = x.to(DEVICE)\n",
    "    x_hat, z, elbo = model.loss(x, computeMSE=False)\n",
    "    print(z.shape, x_hat.shape, elbo.item())\n",
    "    print(model.result_dict)\n",
    "    break"
   ]
  },
  {
   "cell_type": "markdown",
   "id": "f0141bcf",
   "metadata": {},
   "source": [
    "# Training\n",
    "\n",
    "- [Save torch models](https://pytorch.org/tutorials/beginner/saving_loading_models.html#save-load-state-dict-recommended)"
   ]
  },
  {
   "cell_type": "code",
   "execution_count": 14,
   "id": "2d975e4e",
   "metadata": {},
   "outputs": [
    {
     "name": "stdout",
     "output_type": "stream",
     "text": [
      "Random seed 2022 has been set.\n",
      "# model params:  1641326\n",
      "Saving to TESTconvVAE3L_XUXU_Z2_B128_LR2E-04_WD1E-03_GCN2E+00_007_S_6120_20171117_A3_DWI_S127\n"
     ]
    }
   ],
   "source": [
    "'''Define model hyperparams'''\n",
    "\n",
    "# Define model\n",
    "embedding_dim = 2\n",
    "model_type = '3L'\n",
    "model = init_model(model_type, embedding_dim, SEED=SEED)\n",
    "model.apply(init_weights)\n",
    "print(\"# model params: \", sum(p.numel() for p in model.parameters()))\n",
    "\n",
    "# Hyperparam\n",
    "lr = 2e-4\n",
    "wd = 1e-3\n",
    "gradient_type = 'normal'\n",
    "gradient_clip = 2.0\n",
    "\n",
    "# Save path\n",
    "model_setting = f\"TESTconvVAE{model_type}_XUXU_Z{embedding_dim}_B{batch_size}_\" \\\n",
    "                f\"LR{lr:.0E}_WD{wd:.0E}_GC{gradient_type[0].upper()}{gradient_clip:.0E}\"\n",
    "model_name = f\"{model_setting}_{subj_train.name}\"\n",
    "print(f\"Saving to {model_name}\")"
   ]
  },
  {
   "cell_type": "code",
   "execution_count": 15,
   "id": "88ca9aa9",
   "metadata": {},
   "outputs": [
    {
     "name": "stdout",
     "output_type": "stream",
     "text": [
      "mkdir: ../results/logs/TESTconvVAE3L_XUXU_Z2_B128_LR2E-04_WD1E-03_GCN2E+00_007_S_6120_20171117_A3_DWI_S127: File exists\n",
      "mkdir: ../results/models/TESTconvVAE3L_XUXU_Z2_B128_LR2E-04_WD1E-03_GCN2E+00_007_S_6120_20171117_A3_DWI_S127: File exists\n",
      "mkdir: ../results/data/TESTconvVAE3L_XUXU_Z2_B128_LR2E-04_WD1E-03_GCN2E+00_007_S_6120_20171117_A3_DWI_S127: File exists\n"
     ]
    }
   ],
   "source": [
    "'''For saving tensorboard log and model files'''\n",
    "\n",
    "!mkdir {log_folder}{model_name}\n",
    "!mkdir {model_folder}{model_name}\n",
    "!mkdir {result_data_folder}{model_name}"
   ]
  },
  {
   "cell_type": "code",
   "execution_count": 16,
   "id": "5d6e2f96",
   "metadata": {},
   "outputs": [],
   "source": [
    "'''Define training arguments'''\n",
    "\n",
    "optimizer = torch.optim.Adam(model.parameters(), lr = lr, weight_decay = wd)\n",
    "writer = SummaryWriter(log_folder + model_name)\n",
    "\n",
    "args = {\n",
    "        'model' : model, 'optimizer' : optimizer, \n",
    "        'train_loader' : train_loader, 'test_loader': test_loader,\n",
    "        'num_epochs' : 10, 'writer' : writer,\n",
    "        'gradient_type' : gradient_type, 'gradient_clip' : gradient_clip,\n",
    "        'computeMSE' : False, 'verbose' : writer,\n",
    "        'save_every' : 4, 'save_folder' : model_folder + model_name, \n",
    "        'device' : DEVICE\n",
    "       }"
   ]
  },
  {
   "cell_type": "code",
   "execution_count": null,
   "id": "1ccb7fe8",
   "metadata": {
    "scrolled": true
   },
   "outputs": [],
   "source": [
    "'''Training'''\n",
    "\n",
    "train_losses, eval_losses = train_model(**args)\n",
    "writer.flush()\n",
    "writer.close()"
   ]
  },
  {
   "cell_type": "markdown",
   "id": "eb83be2b",
   "metadata": {},
   "source": [
    "We could plot loss after training is finished, but using TensorBoard is recommend."
   ]
  },
  {
   "cell_type": "code",
   "execution_count": 32,
   "id": "9df8b884",
   "metadata": {},
   "outputs": [],
   "source": [
    "def plot_loss(losses, title, model_name, \n",
    "              smooth = 1, save_plot=True):\n",
    "    \n",
    "    n_plots = len(losses)\n",
    "    fig, axes = plt.subplots(1, n_plots, figsize=(5*n_plots+1,5), sharey = False, sharex = True)\n",
    "\n",
    "    for i, (k, v) in enumerate(losses.items()):\n",
    "        if n_plots != 1:\n",
    "            ax = axes[i]\n",
    "        else:\n",
    "            ax = axes\n",
    "        v = np.mean(np.array(v).reshape(-1, smooth), axis=1)\n",
    "        ax.plot(v)\n",
    "        ax.set_title(f\"{title} {k.split('_')[1].upper()} Loss\")\n",
    "        ax.set_xlabel('Batch')\n",
    "    if save_plot:\n",
    "        fig.savefig(f\"{plot_folder}{model_name}_Loss_{title}_E{num_epochs}_S{smooth}.png\")"
   ]
  },
  {
   "cell_type": "code",
   "execution_count": null,
   "id": "9596e794",
   "metadata": {},
   "outputs": [],
   "source": [
    "plot_loss(train_losses, \"Train\", model_name = model_name, smooth = 1, save_plot=True)\n",
    "plot_loss(eval_losses, \"Eval\", model_name = model_name, smooth = 1, save_plot=True)\n",
    "\n",
    "save_pickle(train_losses, f'{result_data_folder}{model_name}/train_losses')\n",
    "save_pickle(eval_losses, f'{result_data_folder}{model_name}/eval_losses')"
   ]
  }
 ],
 "metadata": {
  "kernelspec": {
   "display_name": "Python 3 (ipykernel)",
   "language": "python",
   "name": "python3"
  },
  "language_info": {
   "codemirror_mode": {
    "name": "ipython",
    "version": 3
   },
   "file_extension": ".py",
   "mimetype": "text/x-python",
   "name": "python",
   "nbconvert_exporter": "python",
   "pygments_lexer": "ipython3",
   "version": "3.9.12"
  },
  "toc": {
   "base_numbering": 1,
   "nav_menu": {},
   "number_sections": true,
   "sideBar": true,
   "skip_h1_title": false,
   "title_cell": "Table of Contents",
   "title_sidebar": "Contents",
   "toc_cell": false,
   "toc_position": {
    "height": "calc(100% - 180px)",
    "left": "10px",
    "top": "150px",
    "width": "246.762px"
   },
   "toc_section_display": true,
   "toc_window_display": true
  }
 },
 "nbformat": 4,
 "nbformat_minor": 5
}
